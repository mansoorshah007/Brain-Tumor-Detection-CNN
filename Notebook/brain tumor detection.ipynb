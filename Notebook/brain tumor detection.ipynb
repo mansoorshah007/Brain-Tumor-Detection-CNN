{
 "cells": [
  {
   "cell_type": "code",
   "execution_count": null,
   "id": "b9e9ce8b",
   "metadata": {
    "collapsed": true
   },
   "outputs": [],
   "source": [
    "import matplotlib.pyplot as plt\n",
    "import cv2, os\n",
    "import tensorflow as tf\n",
    "import numpy as np"
   ]
  },
  {
   "cell_type": "code",
   "execution_count": null,
   "id": "e6a349a4",
   "metadata": {},
   "outputs": [],
   "source": [
    "DATADIR = \"/path/to/dataset/\"\n",
    "CATEGORIES = [\"no\", \"yes\"]\n",
    "\n",
    "imageSize = 255"
   ]
  },
  {
   "cell_type": "code",
   "execution_count": null,
   "id": "975b97da",
   "metadata": {},
   "outputs": [],
   "source": [
    "trainingData = []\n",
    "def DataPreprocessig():\n",
    "    for category in CATEGORIES:\n",
    "        path = os.path.join(DATADIR, category)\n",
    "        classNum = CATEGORIES.index(category)\n",
    "        for img in os.listdir(path):\n",
    "            try:\n",
    "                rawImage = cv2.imread(os.path.join(path, img), cv2.IMREAD_GRAYSCALE)\n",
    "                resizeImage = cv2.resize(rawImage, (imageSize, imageSize))\n",
    "                trainingData.append([resizeImage, classNum])\n",
    "            except Exception as e:\n",
    "                pass\n",
    "            \n",
    "DataPreprocessig()\n",
    "print(len(trainingData))"
   ]
  },
  {
   "cell_type": "code",
   "execution_count": null,
   "id": "f6e8c459",
   "metadata": {},
   "outputs": [],
   "source": [
    "F = []\n",
    "l = []\n",
    "\n",
    "for features, labels in trainingData:\n",
    "    F.append(features)\n",
    "    l.append(labels)\n",
    "from sklearn.model_selection import train_test_split\n",
    "x_train, x_test, y_train, y_test = train_test_split(\n",
    "    F, l, test_size = 0.2, random_state = 42, shuffle = True)\n",
    "\n",
    "x_train = np.array(x_train)\n",
    "x_train = x_train.reshape(-1, 255,255,1)\n",
    "y_train = np.array(y_train)\n",
    "\n",
    "x_test = np.array(x_train)\n",
    "x_test = x_train.reshape(-1, 255,255,1)\n",
    "y_test = np.array(y_train)"
   ]
  },
  {
   "cell_type": "code",
   "execution_count": null,
   "id": "069c0433",
   "metadata": {
    "collapsed": true
   },
   "outputs": [],
   "source": [
    "from tensorflow.keras import layers\n",
    "dataAugmentation = tf.keras.Sequential(\n",
    "  [\n",
    "    layers.RandomFlip(\"horizontal\",\n",
    "        input_shape=(255,255,1)),\n",
    "    layers.RandomRotation(0.1),\n",
    "    layers.RandomZoom(0.1),\n",
    "  ]\n",
    ")"
   ]
  },
  {
   "cell_type": "code",
   "execution_count": null,
   "id": "0c19bf7c",
   "metadata": {
    "collapsed": true
   },
   "outputs": [],
   "source": [
    "import tensorflow.keras.layers\n",
    "checkModel = tf.keras.models.Sequential([\n",
    "    dataAugmentation,\n",
    "    layers.Rescaling(1./255),\n",
    "    layers.Conv2D(16, 3, activation='relu'),\n",
    "    layers.MaxPooling2D(),\n",
    "    layers.Conv2D(32, 3, activation='relu'),\n",
    "    layers.MaxPooling2D(),\n",
    "    layers.Conv2D(64, 3, activation='relu'),\n",
    "    layers.MaxPooling2D(),\n",
    "    layers.Conv2D(128, 3, activation='relu'),\n",
    "    layers.MaxPooling2D(),\n",
    "    layers.Dropout(0.2),\n",
    "    layers.Conv2D(256, 3, activation='relu'),\n",
    "    layers.MaxPooling2D(),\n",
    "    layers.Dropout(0.2),\n",
    "    layers.Conv2D(512, 3, activation='relu'),\n",
    "    layers.MaxPooling2D(),\n",
    "    layers.Dropout(0.2),\n",
    "    layers.Flatten(),\n",
    "    layers.Dense(1024, activation='relu'),\n",
    "    layers.Dense(2048, activation='relu'),\n",
    "    layers.Dense(2, name=\"outputs\", activation = 'softmax')\n",
    "])"
   ]
  },
  {
   "cell_type": "code",
   "execution_count": null,
   "id": "ef187628",
   "metadata": {},
   "outputs": [],
   "source": [
    "checkModel.compile(\n",
    "  optimizer = 'Adam',\n",
    "  loss = tf.keras.losses.SparseCategoricalCrossentropy (from_logits = True),\n",
    "  metrics = ['accuracy'])\n",
    "\n",
    "checkModelHistory = checkModel.fit(x_train, y_train, batch_size = 21, epochs = 20, \n",
    "                                 validation_data = (x_test, y_test))"
   ]
  },
  {
   "cell_type": "code",
   "execution_count": null,
   "id": "39784666",
   "metadata": {},
   "outputs": [],
   "source": [
    "checkModel.save(\"model.h5\")"
   ]
  },
  {
   "cell_type": "code",
   "execution_count": null,
   "id": "5b597803",
   "metadata": {},
   "outputs": [],
   "source": [
    "def modelPlotting():\n",
    "    plt.title('model accuracy')\n",
    "    plt.plot(checkModelHistory.history['accuracy'])\n",
    "    plt.plot(checkModelHistory.history['val_accuracy'])\n",
    "    plt.ylabel('Accuracy')\n",
    "    plt.xlabel('Epoches')\n",
    "    plt.legend(['Train', 'Val'], loc = 'lower right')\n",
    "    plt.show()\n",
    "    \n",
    "    plt.title('model loss')\n",
    "    plt.plot(checkModelHistory.history['loss'])\n",
    "    plt.plot(checkModelHistory.history['val_loss'])\n",
    "    plt.ylabel('Loss')\n",
    "    plt.xlabel('Epoches')\n",
    "    plt.legend(['Train', 'Val'], loc = 'upper right')\n",
    "    plt.show()\n",
    "    \n",
    "modelPlotting()"
   ]
  },
  {
   "cell_type": "code",
   "execution_count": null,
   "id": "19abf319",
   "metadata": {},
   "outputs": [],
   "source": [
    "test_loss, test_acc = checkModel.evaluate(x_test, y_test)\n",
    "print(f'Test Loss: {test_loss:.4f}, Test Accuracy: {test_acc:.2f}%')"
   ]
  },
  {
   "cell_type": "code",
   "execution_count": null,
   "id": "f7aa46e2",
   "metadata": {},
   "outputs": [],
   "source": []
  },
  {
   "cell_type": "code",
   "execution_count": null,
   "id": "49fb99d0",
   "metadata": {},
   "outputs": [],
   "source": []
  }
 ],
 "metadata": {
  "kernelspec": {
   "display_name": "Python 3 (ipykernel)",
   "language": "python",
   "name": "python3"
  },
  "language_info": {
   "codemirror_mode": {
    "name": "ipython",
    "version": 3
   },
   "file_extension": ".py",
   "mimetype": "text/x-python",
   "name": "python",
   "nbconvert_exporter": "python",
   "pygments_lexer": "ipython3",
   "version": "3.9.12"
  }
 },
 "nbformat": 4,
 "nbformat_minor": 5
}
